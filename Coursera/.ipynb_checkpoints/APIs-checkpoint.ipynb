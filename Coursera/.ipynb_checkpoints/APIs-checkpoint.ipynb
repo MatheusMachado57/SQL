{
 "cells": [
  {
   "cell_type": "markdown",
   "id": "7d068b4f",
   "metadata": {},
   "source": [
    "<center>\n",
    "    <img src=\"https://s3-api.us-geo.objectstorage.softlayer.net/cf-courses-data/CognitiveClass/Logos/organization_logo/organization_logo.png\" width=\"300\" alt=\"cognitiveclass.ai logo\"  />\n",
    "</center>\n",
    "\n",
    "# Connect to Db2 database on Cloud using Python\n",
    "\n",
    "Estimated time needed: **15** minutes\n",
    "\n",
    "## Objectives\n",
    "\n",
    "After completing this lab you will be able to:\n",
    "\n",
    "*   Import the ibm_db Python library\n",
    "*   Enter the database connection credentials\n",
    "*   Create the database connection\n",
    "*   Close the database connection\n",
    "\n",
    "Note: Please follow the instructions given in the first Lab of this course to Create a database service instance of Db2 on Cloud and retrieve your database Service Credentials.\n",
    "\n",
    "Import the ibm_db Python library\n",
    "The ibm_db API provides a variety of useful Python functions for accessing and manipulating data in an IBM® data server database, including functions for connecting to a database, preparing and issuing SQL statements, fetching rows from result sets, calling stored procedures, committing and rolling back transactions, handling errors, and retrieving metadata.\n",
    "\n",
    "We first import the ibm_db library into our Python Application\n",
    "\n",
    "Execute the following cells by clicking within it and then press Shift and Enter keys simultaneously\n",
    "\n",
    "The following required modules are pre-installed in the Skills Network Labs environment. However if you run this notebook commands in a different Jupyter environment (e.g. Watson Studio or Ananconda) you may need to install these libraries by removing the # sign before !pip in the code cell below.\n"
   ]
  },
  {
   "cell_type": "markdown",
   "id": "1804c1b8",
   "metadata": {},
   "source": [
    "Bem-vindo ao vídeo sobre como escrever o código usando DB-APIs. Depois de concluir este vídeo, você saberá explicar os conceitos básicos relacionados ao Python DB-API e cursores de banco de dados. E também como escrever códigos usando DB-APIs. \n",
    "\n",
    "Como vimos no início deste módulo, o usuário escreve programas Python usando um notebook Jupyter. Há um mecanismo pelo qual o código Python se comunica com o DBMS. O código Python se conecta ao banco de dados usando chamadas DB-API. DB-API é a API padrão do Python para acessar bancos de dados relacionais. É um padrão que permite escrever um único programa que funciona com vários tipos de bancos de dados relacionais em vez de escrever um programa separado para cada um. Se você aprender as funções DB-API, você pode aplicar esse conhecimento para usar qualquer banco de dados com Python. Aqui estão algumas vantagens de usar a API DB. É fácil de implementar e entender. Esta API foi definida para incentivar a semelhança entre os módulos Python que são usados para acessar bancos de dados. Isso atinge consistência, o que leva a módulos de compreensão mais fácil. O código é geralmente mais portátil nos bancos de dados e tem um alcance mais amplo de conectividade de banco de dados do Python. Como sabemos, cada sistema de banco de dados possui uma biblioteca própria. Como exibido, a tabela mostra uma lista de alguns bancos de dados e DB-APIs correspondentes para se conectar a aplicativos Python. \n",
    "\n",
    "A biblioteca Ibm_db é usada para conectar a DB2 Warehouse on Cloud. A biblioteca MySQL Connector/Python é usada para conectar ao Compose for MySQL. A biblioteca psycopg2 é usada para conectar ao Compose do PostgreSQL. Por fim, a biblioteca PyMongo é usada para conectar ao Compose for MongoDB. \n",
    "\n",
    "Os dois conceitos principais no Python DB-API são objetos de conexão e consulta. Usamos objetos de conexão para conectar a um banco de dados e gerenciar suas transações. Os objetos cursor são usados para executar consultas. Você abre um objeto cursor e executa consultas. O cursor funciona de forma semelhante a um cursor em um sistema de processamento de texto. no qual você rola para baixo no conjunto de resultados e coloca seus dados no aplicativo. Os cursores são usados para examinar os resultados de um banco de dados. Aqui estão os métodos usados com objetos de conexão. \n",
    "\n",
    "O método cursor() retorna um novo objeto cursor usando a conexão. O método commit() é usado para enviar uma transação pendente para o banco de dados. O método rollback() faz com que o banco de dados reverta para o início de qualquer transação pendente. O método close() é usado para fechar uma conexão de banco de dados. \n",
    "\n",
    "Esses objetos representam um cursor de banco de dados, que é usado para gerenciar o conteúdo de uma operação de busca. Os cursores criados a partir da mesma conexão não são isolados, ou seja, quaisquer alterações feitas no banco de dados por um cursor é imediatamente visível pelos outros cursores. Os cursores criados a partir de diferentes conexões podem ou não ser isolados dependendo de como o suporte à transação é implementado. Um cursor de banco de dados é uma estrutura de controle que permite a passagem pelos registros em um banco de dados. Ele se comporta como um nome ou identificador de arquivo em uma linguagem de programação. Assim como um programa abre um arquivo, ele acessa o conteúdo dos arquivos, ele abre um cursor para obter acesso aos resultados da consulta. Da mesma forma, o programa fecha um arquivo para finalizar seu acesso e fecha um cursor para encerrar o acesso aos resultados da consulta. Outra semelhança é que, assim como o identificador de arquivo rastreia a posição atual do programa em um arquivo aberto, um cursor acompanha a posição atual do programa nos resultados da consulta. Examinaremos um aplicativo Python que usa a DB-API para consultar um banco de dados. Primeiro, importe seu módulo de banco de dados usando a API de conexão desse módulo. Para abrir uma conexão com o banco de dados, use a função de conexão e passa os parâmetros que é o nome do banco de dados, nome de usuário e senha. A função de conexão retorna o objeto de conexão. Depois disso, você cria um objeto cursor no objeto de conexão. O cursor é usado para executar consultas e buscar resultados. Depois de executar as consultas usando o cursor, também usamos o cursor para buscar os resultados da consulta. Finalmente, quando o sistema terminar de executar as consultas, ele libera todos os recursos, encerrando a conexão. Lembre-se de que é sempre importante encerrar as conexões para evitar que conexões não usadas ocupem recursos. Obrigado por assistir."
   ]
  },
  {
   "cell_type": "code",
   "execution_count": 4,
   "id": "9e060e4c",
   "metadata": {},
   "outputs": [
    {
     "name": "stdout",
     "output_type": "stream",
     "text": [
      "Collecting ibm_db==3.1.0\n",
      "  Downloading ibm_db-3.1.0.tar.gz (797 kB)\n",
      "  Installing build dependencies: started\n",
      "  Installing build dependencies: finished with status 'done'\n",
      "  Getting requirements to build wheel: started\n",
      "  Getting requirements to build wheel: finished with status 'done'\n",
      "  Installing backend dependencies: started\n",
      "  Installing backend dependencies: finished with status 'done'\n",
      "    Preparing wheel metadata: started\n",
      "    Preparing wheel metadata: finished with status 'done'\n",
      "Collecting ibm_db_sa==0.3.3\n",
      "  Downloading ibm_db_sa-0.3.3.tar.gz (24 kB)\n",
      "Collecting sqlalchemy>=0.7.3\n",
      "  Downloading SQLAlchemy-1.4.40-cp39-cp39-win_amd64.whl (1.6 MB)\n",
      "Collecting greenlet!=0.4.17\n",
      "  Downloading greenlet-1.1.2-cp39-cp39-win_amd64.whl (101 kB)\n",
      "Building wheels for collected packages: ibm-db, ibm-db-sa\n",
      "  Building wheel for ibm-db (PEP 517): started\n",
      "  Building wheel for ibm-db (PEP 517): finished with status 'done'\n",
      "  Created wheel for ibm-db: filename=ibm_db-3.1.0-py3-none-any.whl size=29870392 sha256=4a65906073fddbf5c270da31113177144306d1012d26c215d307443198f81c48\n",
      "  Stored in directory: c:\\users\\mathe\\appdata\\local\\pip\\cache\\wheels\\0a\\dd\\10\\4a9ad59949e39786d729813e4bce24ccf2263c6d60a62de2f2\n",
      "  Building wheel for ibm-db-sa (setup.py): started\n",
      "  Building wheel for ibm-db-sa (setup.py): finished with status 'done'\n",
      "  Created wheel for ibm-db-sa: filename=ibm_db_sa-0.3.3-py3-none-any.whl size=27427 sha256=7cfdedaeb6bb8ad5605405cff39154ecd0fc8a476160266a7627d9d67190d66a\n",
      "  Stored in directory: c:\\users\\mathe\\appdata\\local\\pip\\cache\\wheels\\8f\\98\\0c\\930c68279890092297e12d4cc20e95613ddab15af6753d92bb\n",
      "Successfully built ibm-db ibm-db-sa\n",
      "Installing collected packages: greenlet, sqlalchemy, ibm-db-sa, ibm-db\n",
      "  Attempting uninstall: greenlet\n",
      "    Found existing installation: greenlet 1.1.1\n",
      "    Uninstalling greenlet-1.1.1:\n",
      "      Successfully uninstalled greenlet-1.1.1\n",
      "  Attempting uninstall: sqlalchemy\n",
      "    Found existing installation: SQLAlchemy 1.4.22\n",
      "    Uninstalling SQLAlchemy-1.4.22:\n",
      "      Successfully uninstalled SQLAlchemy-1.4.22\n",
      "Successfully installed greenlet-1.1.2 ibm-db-3.1.0 ibm-db-sa-0.3.3 sqlalchemy-1.4.40\n",
      "Found existing installation: SQLAlchemy 1.4.40\n",
      "Uninstalling SQLAlchemy-1.4.40:\n",
      "  Successfully uninstalled SQLAlchemy-1.4.40\n",
      "Collecting sqlalchemy==1.3.24\n",
      "  Downloading SQLAlchemy-1.3.24-cp39-cp39-win_amd64.whl (1.2 MB)\n",
      "Installing collected packages: sqlalchemy\n",
      "Successfully installed sqlalchemy-1.3.24\n",
      "Collecting ipython-sql\n",
      "  Downloading ipython_sql-0.4.1-py3-none-any.whl (21 kB)\n",
      "Collecting sqlparse\n",
      "  Downloading sqlparse-0.4.2-py3-none-any.whl (42 kB)\n",
      "Requirement already satisfied: ipython-genutils>=0.1.0 in c:\\users\\mathe\\anaconda3\\lib\\site-packages (from ipython-sql) (0.2.0)\n",
      "Requirement already satisfied: ipython>=1.0 in c:\\users\\mathe\\anaconda3\\lib\\site-packages (from ipython-sql) (7.29.0)\n",
      "Requirement already satisfied: sqlalchemy>=0.6.7 in c:\\users\\mathe\\anaconda3\\lib\\site-packages (from ipython-sql) (1.3.24)\n",
      "Collecting prettytable<1\n",
      "  Downloading prettytable-0.7.2.zip (28 kB)\n",
      "Requirement already satisfied: six in c:\\users\\mathe\\anaconda3\\lib\\site-packages (from ipython-sql) (1.16.0)\n",
      "Requirement already satisfied: pygments in c:\\users\\mathe\\anaconda3\\lib\\site-packages (from ipython>=1.0->ipython-sql) (2.10.0)\n",
      "Requirement already satisfied: matplotlib-inline in c:\\users\\mathe\\anaconda3\\lib\\site-packages (from ipython>=1.0->ipython-sql) (0.1.2)\n",
      "Requirement already satisfied: setuptools>=18.5 in c:\\users\\mathe\\anaconda3\\lib\\site-packages (from ipython>=1.0->ipython-sql) (58.0.4)\n",
      "Requirement already satisfied: jedi>=0.16 in c:\\users\\mathe\\anaconda3\\lib\\site-packages (from ipython>=1.0->ipython-sql) (0.18.0)\n",
      "Requirement already satisfied: decorator in c:\\users\\mathe\\anaconda3\\lib\\site-packages (from ipython>=1.0->ipython-sql) (5.1.0)\n",
      "Requirement already satisfied: pickleshare in c:\\users\\mathe\\anaconda3\\lib\\site-packages (from ipython>=1.0->ipython-sql) (0.7.5)\n",
      "Requirement already satisfied: colorama in c:\\users\\mathe\\anaconda3\\lib\\site-packages (from ipython>=1.0->ipython-sql) (0.4.4)\n",
      "Requirement already satisfied: backcall in c:\\users\\mathe\\anaconda3\\lib\\site-packages (from ipython>=1.0->ipython-sql) (0.2.0)\n",
      "Requirement already satisfied: traitlets>=4.2 in c:\\users\\mathe\\anaconda3\\lib\\site-packages (from ipython>=1.0->ipython-sql) (5.1.0)\n",
      "Requirement already satisfied: prompt-toolkit!=3.0.0,!=3.0.1,<3.1.0,>=2.0.0 in c:\\users\\mathe\\anaconda3\\lib\\site-packages (from ipython>=1.0->ipython-sql) (3.0.20)\n",
      "Requirement already satisfied: parso<0.9.0,>=0.8.0 in c:\\users\\mathe\\anaconda3\\lib\\site-packages (from jedi>=0.16->ipython>=1.0->ipython-sql) (0.8.2)\n",
      "Requirement already satisfied: wcwidth in c:\\users\\mathe\\anaconda3\\lib\\site-packages (from prompt-toolkit!=3.0.0,!=3.0.1,<3.1.0,>=2.0.0->ipython>=1.0->ipython-sql) (0.2.5)\n",
      "Building wheels for collected packages: prettytable\n",
      "  Building wheel for prettytable (setup.py): started\n",
      "  Building wheel for prettytable (setup.py): finished with status 'done'\n",
      "  Created wheel for prettytable: filename=prettytable-0.7.2-py3-none-any.whl size=13714 sha256=a57d2faa56f1e05138decdae58c591650a051fc61145cfeb89d27c93713e9bf3\n",
      "  Stored in directory: c:\\users\\mathe\\appdata\\local\\pip\\cache\\wheels\\75\\f7\\28\\77a076f1fa8cbeda61aca712815d04d7a32435f04a26a2dd7b\n",
      "Successfully built prettytable\n",
      "Installing collected packages: sqlparse, prettytable, ipython-sql\n",
      "Successfully installed ipython-sql-0.4.1 prettytable-0.7.2 sqlparse-0.4.2\n"
     ]
    }
   ],
   "source": [
    "# These libraries are pre-installed in SN Labs. \n",
    "# If running in another environment please uncomment lines below to install them:\n",
    "\n",
    "# !pip install --force-reinstall ibm_db==3.1.0 ibm_db_sa==0.3.3\n",
    "# Ensure we don't load_ext with sqlalchemy>=1.4 (incompadible)\n",
    "# !pip uninstall sqlalchemy==1.4 -y && pip install sqlalchemy==1.3.24\n",
    "# !pip install ipython-sql\n",
    "\n",
    "import ibm_db"
   ]
  },
  {
   "cell_type": "markdown",
   "id": "89773df0",
   "metadata": {},
   "source": [
    "When the command above completes, the `ibm_db` library is loaded in your notebook.\n",
    "\n",
    "## Identify the database connection credentials\n",
    "\n",
    "Connecting to dashDB or DB2 database requires the following information:\n",
    "\n",
    "*   Driver Name\n",
    "*   Database name\n",
    "*   Host DNS name or IP address\n",
    "*   Host port\n",
    "*   Connection protocol\n",
    "*   User ID (or username)\n",
    "*   User Password\n",
    "\n",
    "**Notice:** To obtain credentials please refer to the instructions given in the first Lab of this course\n",
    "\n",
    "Now enter your database credentials below and execute the cell with `Shift` + `Enter`\n"
   ]
  },
  {
   "cell_type": "code",
   "execution_count": 5,
   "id": "bfaf3b33",
   "metadata": {},
   "outputs": [],
   "source": [
    "#Replace the placeholder values with your actual Db2 hostname, username, and password:\n",
    "dsn_hostname = \"localhost\" # e.g.: \"54a2f15b-5c0f-46df-8954-7e38e612c2bd.c1ogj3sd0tgtu0lqde00.databases.appdomain.cloud\"\n",
    "dsn_uid = \"root\"        # e.g. \"abc12345\"\n",
    "dsn_pwd = \"dsa1234\"      # e.g. \"7dBZ3wWt9XN6$o0J\"\n",
    "\n",
    "dsn_driver = \"192.168.0.19\"\n",
    "dsn_database = \"shazam\"            # e.g. \"BLUDB\"\n",
    "dsn_port = \"3306\"                # e.g. \"32733\" \n",
    "dsn_protocol = \"TCPIP\"            # i.e. \"TCPIP\"\n",
    "dsn_security = \"SSL\"              #i.e. \"SSL\""
   ]
  },
  {
   "cell_type": "markdown",
   "id": "6a568b16",
   "metadata": {},
   "source": [
    "# Create the DB2 database connection\n",
    "\n",
    "Ibm_db API uses the IBM Data Server Driver for ODBC and CLI APIs to connect to IBM DB2 and Informix.\n",
    "\n",
    "Lets build the dsn connection string using the credentials you entered above"
   ]
  },
  {
   "cell_type": "code",
   "execution_count": 6,
   "id": "ae846e39",
   "metadata": {},
   "outputs": [
    {
     "name": "stdout",
     "output_type": "stream",
     "text": [
      "DRIVER=192.168.0.19;DATABASE=shazam;HOSTNAME=localhost;PORT=3306;PROTOCOL=TCPIP;UID=root;PWD=dsa1234;SECURITY=SSL;\n"
     ]
    }
   ],
   "source": [
    "#DO NOT MODIFY THIS CELL. Just RUN it with Shift + Enter\n",
    "#Create the dsn connection string\n",
    "dsn = (\n",
    "    \"DRIVER={0};\"\n",
    "    \"DATABASE={1};\"\n",
    "    \"HOSTNAME={2};\"\n",
    "    \"PORT={3};\"\n",
    "    \"PROTOCOL={4};\"\n",
    "    \"UID={5};\"\n",
    "    \"PWD={6};\"\n",
    "    \"SECURITY={7};\").format(dsn_driver, dsn_database, dsn_hostname, dsn_port, dsn_protocol, dsn_uid, dsn_pwd,dsn_security)\n",
    "\n",
    "#print the connection string to check correct values are specified\n",
    "print(dsn)"
   ]
  },
  {
   "cell_type": "markdown",
   "id": "3d05f791",
   "metadata": {},
   "source": [
    "Now establish the connection to the database"
   ]
  },
  {
   "cell_type": "code",
   "execution_count": 7,
   "id": "078924ce",
   "metadata": {},
   "outputs": [
    {
     "name": "stdout",
     "output_type": "stream",
     "text": [
      "Unable to connect:  [IBM][CLI Driver] SQL30081N  A communication error has been detected. Communication protocol being used: \"SSL\".  Communication API being used: \"SOCKETS\".  Location where the error was detected: \"\".  Communication function detecting the error: \"sqlccSSLSocketSetup\".  Protocol specific error code(s): \"410\", \"*\", \"*\".  SQLSTATE=08001\r",
      " SQLCODE=-30081\n"
     ]
    }
   ],
   "source": [
    "#DO NOT MODIFY THIS CELL. Just RUN it with Shift + Enter\n",
    "#Create database connection\n",
    "\n",
    "try:\n",
    "    conn = ibm_db.connect(dsn, \"\", \"\")\n",
    "    print (\"Connected to database: \", dsn_database, \"as user: \", dsn_uid, \"on host: \", dsn_hostname)\n",
    "\n",
    "except:\n",
    "    print (\"Unable to connect: \", ibm_db.conn_errormsg() )"
   ]
  },
  {
   "cell_type": "markdown",
   "id": "cf91de40",
   "metadata": {},
   "source": [
    "Congratulations if you were able to connect successfuly. Otherwise check the error and try again."
   ]
  },
  {
   "cell_type": "code",
   "execution_count": null,
   "id": "d7ae4625",
   "metadata": {},
   "outputs": [],
   "source": [
    "#Retrieve Metadata for the Database Server\n",
    "server = ibm_db.server_info(conn)\n",
    "\n",
    "print (\"DBMS_NAME: \", server.DBMS_NAME)\n",
    "print (\"DBMS_VER:  \", server.DBMS_VER)\n",
    "print (\"DB_NAME:   \", server.DB_NAME)"
   ]
  },
  {
   "cell_type": "code",
   "execution_count": null,
   "id": "6669b2ea",
   "metadata": {},
   "outputs": [],
   "source": [
    "#Retrieve Metadata for the Database Client / Driver\n",
    "client = ibm_db.client_info(conn)\n",
    "\n",
    "print (\"DRIVER_NAME:          \", client.DRIVER_NAME) \n",
    "print (\"DRIVER_VER:           \", client.DRIVER_VER)\n",
    "print (\"DATA_SOURCE_NAME:     \", client.DATA_SOURCE_NAME)\n",
    "print (\"DRIVER_ODBC_VER:      \", client.DRIVER_ODBC_VER)\n",
    "print (\"ODBC_VER:             \", client.ODBC_VER)\n",
    "print (\"ODBC_SQL_CONFORMANCE: \", client.ODBC_SQL_CONFORMANCE)\n",
    "print (\"APPL_CODEPAGE:        \", client.APPL_CODEPAGE)\n",
    "print (\"CONN_CODEPAGE:        \", client.CONN_CODEPAGE)"
   ]
  },
  {
   "cell_type": "markdown",
   "id": "0cc1f3ae",
   "metadata": {},
   "source": [
    "## Close the Connection\n",
    "\n",
    "We free all resources by closing the connection. Remember that it is always important to close connections so that we can avoid unused connections taking up resources."
   ]
  },
  {
   "cell_type": "code",
   "execution_count": null,
   "id": "d03be2e2",
   "metadata": {},
   "outputs": [],
   "source": [
    "ibm_db.close(conn)"
   ]
  },
  {
   "cell_type": "markdown",
   "id": "3f7fbd70",
   "metadata": {},
   "source": [
    "Summary\n",
    "In this tutorial you established a connection to a DB2 database on Cloud database from a Python notebook using ibm_db API."
   ]
  },
  {
   "cell_type": "markdown",
   "id": "3c641032",
   "metadata": {},
   "source": [
    "## Author\n",
    "\n",
    "<a href=\"https://www.linkedin.com/in/ravahuja?utm_medium=Exinfluencer&utm_source=Exinfluencer&utm_content=000026UJ&utm_term=10006555&utm_id=NA-SkillsNetwork-Channel-SkillsNetworkCoursesIBMDeveloperSkillsNetworkDB0201ENSkillsNetwork20127838-2022-01-01\">Rav Ahuja</a>\n",
    "\n",
    "## Change Log\n",
    "\n",
    "| Date (YYYY-MM-DD) | Version | Changed By | Change Description                 |\n",
    "| ----------------- | ------- | ---------- | ---------------------------------- |\n",
    "| 2021-11-17        | 2.2     | Lakshmi    | Updated library                    |\n",
    "| 2021-07-09        | 2.1     | Malika     | Updated the connection string      |\n",
    "| 2020-08-28        | 2.0     | Lavanya    | Moved lab to course repo in GitLab |\n",
    "\n",
    "<hr>\n",
    "\n",
    "## <h3 align=\"center\"> © IBM Corporation 2020. All rights reserved. <h3/>"
   ]
  }
 ],
 "metadata": {
  "kernelspec": {
   "display_name": "Python 3 (ipykernel)",
   "language": "python",
   "name": "python3"
  },
  "language_info": {
   "codemirror_mode": {
    "name": "ipython",
    "version": 3
   },
   "file_extension": ".py",
   "mimetype": "text/x-python",
   "name": "python",
   "nbconvert_exporter": "python",
   "pygments_lexer": "ipython3",
   "version": "3.9.7"
  }
 },
 "nbformat": 4,
 "nbformat_minor": 5
}
